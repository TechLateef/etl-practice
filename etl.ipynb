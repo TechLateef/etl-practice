{
 "cells": [
  {
   "cell_type": "code",
   "execution_count": null,
   "metadata": {},
   "outputs": [],
   "source": []
  },
  {
   "cell_type": "markdown",
   "metadata": {},
   "source": [
    "## Will be performing ETL on cars \n",
    "\n",
    "### steps i will be following \n",
    "* Extract the data from json, csv(cuma seperated value), and xml "
   ]
  },
  {
   "cell_type": "markdown",
   "metadata": {},
   "source": []
  },
  {
   "cell_type": "code",
   "execution_count": 57,
   "metadata": {},
   "outputs": [],
   "source": [
    "#  Import relevant packages\n",
    "\n",
    "import pandas as pd\n",
    "import numpy as np\n",
    "import glob\n",
    "import xml.etree.ElementTree as ET\n",
    "from datetime import datetime"
   ]
  },
  {
   "cell_type": "code",
   "execution_count": 58,
   "metadata": {},
   "outputs": [],
   "source": [
    "log_file = \"log_file.txt\"\n",
    "target_file = \"transformed_data.csv\""
   ]
  },
  {
   "cell_type": "code",
   "execution_count": 59,
   "metadata": {},
   "outputs": [],
   "source": [
    "def extract_csv(file):\n",
    "    df = pd.read_csv(file)\n",
    "    return df"
   ]
  },
  {
   "cell_type": "code",
   "execution_count": 60,
   "metadata": {},
   "outputs": [],
   "source": [
    "def extract_json(file):\n",
    "    df = pd.read_json(file, lines=True)\n",
    "    return df"
   ]
  },
  {
   "cell_type": "code",
   "execution_count": 61,
   "metadata": {},
   "outputs": [],
   "source": [
    "def extract_xml(file):\n",
    "    df = pd.DataFrame(\n",
    "        columns=['car_model', 'year_of_manufacture', 'price', 'fuel'])\n",
    "    tree = ET.parse(file)\n",
    "    root = tree.getroot()\n",
    "    for car in root:\n",
    "        car_model = car.find('car_model').text\n",
    "        year_of_manufacture = car.find('year_of_manufacture').text\n",
    "        price = float(car.find('price').text)\n",
    "        fuel = car.find('fuel').text\n",
    "        df = pd.concat([df, pd.DataFrame(\n",
    "            [{\"car_model\": car_model, \"year_of_manufacture\": year_of_manufacture, 'price': price, \"fuel\": fuel}])], ignore_index=True)\n",
    "    return df"
   ]
  },
  {
   "cell_type": "code",
   "execution_count": 67,
   "metadata": {},
   "outputs": [],
   "source": [
    "def extract():\n",
    "    extracted_data = pd.DataFrame(\n",
    "        columns=['car_model', 'year_of_manufacture', 'price', 'fuel'])\n",
    "    for csvfile in glob.glob('*.csv'):\n",
    "        extracted_data = pd.concat(\n",
    "            [extracted_data, pd.DataFrame(extract_csv(csvfile))], ignore_index=True)\n",
    "\n",
    "    for jsonfile in glob.glob('*.json'):\n",
    "        extracted_data = pd.concat([extracted_data, pd.DataFrame(\n",
    "            extract_json(jsonfile))], ignore_index=True)\n",
    "\n",
    "    for xmlfile in glob.glob('*.xml'):\n",
    "        extracted_data = pd.concat(\n",
    "            [extracted_data, pd.DataFrame(extract_xml(xmlfile))], ignore_index=True)\n",
    "\n",
    "    return extracted_data"
   ]
  },
  {
   "cell_type": "code",
   "execution_count": 68,
   "metadata": {},
   "outputs": [],
   "source": [
    "def log_progress(message):\n",
    "    timestamp_format = '%Y-%h-%d-%H:%M:%S'\n",
    "    now = datetime.now()\n",
    "    timestamp = now.strftime(timestamp_format)\n",
    "    with open(log_file, 'a') as f:\n",
    "        f.write(timestamp + ',' + message + '\\n' )\n",
    "    "
   ]
  },
  {
   "cell_type": "code",
   "execution_count": 69,
   "metadata": {},
   "outputs": [],
   "source": [
    "def transform(data):\n",
    "    data['price'] = round(data.price, 2)\n",
    "\n",
    "    return data"
   ]
  },
  {
   "cell_type": "code",
   "execution_count": 70,
   "metadata": {},
   "outputs": [],
   "source": [
    "def load_data(target_file, transformed_data):\n",
    "    transformed_data.to_csv(terget_file)"
   ]
  },
  {
   "cell_type": "code",
   "execution_count": 71,
   "metadata": {},
   "outputs": [
    {
     "name": "stdout",
     "output_type": "stream",
     "text": [
      "Transformed Data\n",
      "        car_model year_of_manufacture     price    fuel\n",
      "0        alto 800                2017   4253.73  Petrol\n",
      "1            ciaz                2015  10223.88  Diesel\n",
      "2            ciaz                2015  11194.03  Petrol\n",
      "3          ertiga                2015   9104.48  Petrol\n",
      "4           dzire                2009   3358.21  Petrol\n",
      "..            ...                 ...       ...     ...\n",
      "85        etios g                2015   5895.52  Petrol\n",
      "86  corolla altis                2013   8208.96  Petrol\n",
      "87        corolla                2004   2238.81  Petrol\n",
      "88  corolla altis                2010   7835.82  Petrol\n",
      "89       fortuner                2012  21641.79  Diesel\n",
      "\n",
      "[90 rows x 4 columns]\n"
     ]
    }
   ],
   "source": [
    "# Log the initialization of the ETL process \n",
    "log_progress(\"ETL Job Started\") \n",
    " \n",
    "# Log the beginning of the Extraction process \n",
    "log_progress(\"Extract phase Started\") \n",
    "extracted_data = extract() \n",
    " \n",
    "# Log the completion of the Extraction process \n",
    "log_progress(\"Extract phase Ended\") \n",
    " \n",
    "# Log the beginning of the Transformation process \n",
    "log_progress(\"Transform phase Started\") \n",
    "transformed_data = transform(extracted_data) \n",
    "print(\"Transformed Data\") \n",
    "print(transformed_data) \n",
    " \n",
    "# Log the completion of the Transformation process \n",
    "log_progress(\"Transform phase Ended\") \n",
    " \n",
    "# Log the beginning of the Loading process \n",
    "log_progress(\"Load phase Started\") \n",
    "load_data(target_file,transformed_data) \n",
    " \n",
    "# Log the completion of the Loading process \n",
    "log_progress(\"Load phase Ended\") \n",
    " \n",
    "# Log the completion of the ETL process \n",
    "log_progress(\"ETL Job Ended\") \n"
   ]
  },
  {
   "cell_type": "code",
   "execution_count": null,
   "metadata": {},
   "outputs": [],
   "source": []
  }
 ],
 "metadata": {
  "kernelspec": {
   "display_name": "ArewaDS",
   "language": "python",
   "name": "python3"
  },
  "language_info": {
   "codemirror_mode": {
    "name": "ipython",
    "version": 3
   },
   "file_extension": ".py",
   "mimetype": "text/x-python",
   "name": "python",
   "nbconvert_exporter": "python",
   "pygments_lexer": "ipython3",
   "version": "3.8.18"
  }
 },
 "nbformat": 4,
 "nbformat_minor": 2
}
